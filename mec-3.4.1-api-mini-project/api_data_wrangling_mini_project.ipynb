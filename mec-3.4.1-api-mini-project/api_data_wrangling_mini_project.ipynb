{
 "cells": [
  {
   "cell_type": "markdown",
   "metadata": {},
   "source": [
    "This exercise will require you to pull some data from https://data.nasdaq.com/ (formerly Quandl API)."
   ]
  },
  {
   "cell_type": "markdown",
   "metadata": {},
   "source": [
    "As a first step, you will need to register a free account on the https://data.nasdaq.com/ website."
   ]
  },
  {
   "cell_type": "markdown",
   "metadata": {},
   "source": [
    "After you register, you will be provided with a unique API key, that you should store:\n",
    "\n",
    "*Note*: Use a `.env` file and put your key in there and `python-dotenv` to access it in this notebook. \n",
    "\n",
    "The code below uses a key that was used when generating this project but has since been deleted. Never submit your keys to source control. There is a `.env-example` file in this repository to illusrtate what you need. Copy that to a file called `.env` and use your own api key in that `.env` file. Make sure you also have a `.gitignore` file with a line for `.env` added to it. \n",
    "\n",
    "The standard Python gitignore is [here](https://github.com/github/gitignore/blob/master/Python.gitignore) you can just copy that. "
   ]
  },
  {
   "cell_type": "code",
   "execution_count": 1,
   "metadata": {},
   "outputs": [],
   "source": [
    "# get api key from your .env file\n",
    "import os\n",
    "from dotenv import load_dotenv  # if missing this module, simply run `pip install python-dotenv`\n",
    "\n",
    "load_dotenv()\n",
    "API_KEY = os.getenv('NASDAQ_API_KEY')\n",
    "\n",
    "#print(API_KEY)"
   ]
  },
  {
   "cell_type": "markdown",
   "metadata": {},
   "source": [
    "Nasdaq Data has a large number of data sources, but, unfortunately, most of them require a Premium subscription. Still, there are also a good number of free datasets."
   ]
  },
  {
   "cell_type": "markdown",
   "metadata": {},
   "source": [
    "For this mini project, we will focus on equities data from the Frankfurt Stock Exhange (FSE), which is available for free. We'll try and analyze the stock prices of a company called Carl Zeiss Meditec, which manufactures tools for eye examinations, as well as medical lasers for laser eye surgery: https://www.zeiss.com/meditec/int/home.html. The company is listed under the stock ticker AFX_X."
   ]
  },
  {
   "cell_type": "markdown",
   "metadata": {},
   "source": [
    "You can find the detailed Nasdaq Data API instructions here: https://docs.data.nasdaq.com/docs/in-depth-usage"
   ]
  },
  {
   "cell_type": "markdown",
   "metadata": {},
   "source": [
    "While there is a dedicated Python package for connecting to the Nasdaq API, we would prefer that you use the *requests* package, which can be easily downloaded using *pip* or *conda*. You can find the documentation for the package here: http://docs.python-requests.org/en/master/ "
   ]
  },
  {
   "cell_type": "markdown",
   "metadata": {},
   "source": [
    "Finally, apart from the *requests* package, you are encouraged to not use any third party Python packages, such as *pandas*, and instead focus on what's available in the Python Standard Library (the *collections* module might come in handy: https://pymotw.com/3/collections/).\n",
    "Also, since you won't have access to DataFrames, you are encouraged to us Python's native data structures - preferably dictionaries, though some questions can also be answered using lists.\n",
    "You can read more on these data structures here: https://docs.python.org/3/tutorial/datastructures.html"
   ]
  },
  {
   "cell_type": "markdown",
   "metadata": {},
   "source": [
    "Keep in mind that the JSON responses you will be getting from the API map almost one-to-one to Python's dictionaries. Unfortunately, they can be very nested, so make sure you read up on indexing dictionaries in the documentation provided above."
   ]
  },
  {
   "cell_type": "code",
   "execution_count": 2,
   "metadata": {},
   "outputs": [],
   "source": [
    "# First, import the relevant modules\n",
    "import collections, requests"
   ]
  },
  {
   "cell_type": "markdown",
   "metadata": {},
   "source": [
    "Note: API's can change a bit with each version, for this exercise it is reccomended to use the nasdaq api at `https://data.nasdaq.com/api/v3/`. This is the same api as what used to be quandl so `https://www.quandl.com/api/v3/` should work too.\n",
    "\n",
    "Hint: We are looking for the `AFX_X` data on the `datasets/FSE/` dataset."
   ]
  },
  {
   "cell_type": "code",
   "execution_count": 3,
   "metadata": {},
   "outputs": [
    {
     "data": {
      "text/plain": [
       "{'dataset': {'id': 10095370,\n",
       "  'dataset_code': 'AFX_X',\n",
       "  'database_code': 'FSE',\n",
       "  'name': 'Carl Zeiss Meditec (AFX_X)',\n",
       "  'description': 'Stock Prices for Carl Zeiss Meditec (2020-11-02) from the Frankfurt Stock Exchange.<br><br>Trading System: Xetra<br><br>ISIN: DE0005313704',\n",
       "  'refreshed_at': '2020-12-01T14:48:09.907Z',\n",
       "  'newest_available_date': '2020-12-01',\n",
       "  'oldest_available_date': '2000-06-07',\n",
       "  'column_names': ['Date',\n",
       "   'Open',\n",
       "   'High',\n",
       "   'Low',\n",
       "   'Close',\n",
       "   'Change',\n",
       "   'Traded Volume',\n",
       "   'Turnover',\n",
       "   'Last Price of the Day',\n",
       "   'Daily Traded Units',\n",
       "   'Daily Turnover'],\n",
       "  'frequency': 'daily',\n",
       "  'type': 'Time Series',\n",
       "  'premium': False,\n",
       "  'limit': None,\n",
       "  'transform': None,\n",
       "  'column_index': None,\n",
       "  'start_date': '2020-11-18',\n",
       "  'end_date': '2020-11-18',\n",
       "  'data': [['2020-11-18',\n",
       "    115.8,\n",
       "    115.8,\n",
       "    115.0,\n",
       "    115.0,\n",
       "    None,\n",
       "    25.0,\n",
       "    2875.0,\n",
       "    None,\n",
       "    None,\n",
       "    None]],\n",
       "  'collapse': None,\n",
       "  'order': None,\n",
       "  'database_id': 6129}}"
      ]
     },
     "execution_count": 3,
     "metadata": {},
     "output_type": "execute_result"
    }
   ],
   "source": [
    "# Now, call the Nasdaq API and pull out a small sample of the data (only one day) to get a glimpse\n",
    "# into the JSON structure that will be returned\n",
    "\n",
    "#r = requests.get(f'https://data.nasdaq.com/api/v3/datasets/FSE/AFX_X/data.json?start_date=2020-11-18&end_date=2020-11-18&api_key={API_KEY}', auth=('user', 'pass'))\n",
    "\n",
    "# The command ABOVE brings just the data.  <<<---\n",
    "# To have both the data and the metadata we use the command BELOW: \n",
    "\n",
    "r = requests.get(f'https://data.nasdaq.com/api/v3/datasets/FSE/AFX_X.json?start_date=2020-11-18&end_date=2020-11-18&api_key={API_KEY}', auth=('user', 'pass'))\n",
    "r.json()"
   ]
  },
  {
   "cell_type": "code",
   "execution_count": 4,
   "metadata": {},
   "outputs": [
    {
     "name": "stdout",
     "output_type": "stream",
     "text": [
      "The return value of 'r.json()' is a  <class 'dict'>\n"
     ]
    }
   ],
   "source": [
    "# Inspect the JSON structure of the object you created, and take note of how nested it is,\n",
    "# as well as the overall structure\n",
    "\n",
    "print(\"The return value of 'r.json()' is a \", type(r.json()))\n",
    "\n",
    "# DISCUSSION:\n",
    "# The general structure of the json output seems to be very similar to\n",
    "# a nested dictionary structure with key:val data where the val can be\n",
    "# None, a string, a list or another dictionary. In fact the return\n",
    "# value of the r.json() is a python dictionary!"
   ]
  },
  {
   "cell_type": "markdown",
   "metadata": {},
   "source": [
    "These are your tasks for this mini project:\n",
    "\n",
    "1. Collect data from the Franfurt Stock Exchange, for the ticker AFX_X, for the whole year 2017 (keep in mind that the date format is YYYY-MM-DD).\n",
    "2. Convert the returned JSON object into a Python dictionary.\n",
    "3. Calculate what the highest and lowest opening prices were for the stock in this period.\n",
    "4. What was the largest change in any one day (based on High and Low price)?\n",
    "5. What was the largest change between any two days (based on Closing Price)?\n",
    "6. What was the average daily trading volume during this year?\n",
    "7. (Optional) What was the median trading volume during this year. (Note: you may need to implement your own function for calculating the median.)"
   ]
  },
  {
   "cell_type": "code",
   "execution_count": 5,
   "metadata": {},
   "outputs": [],
   "source": [
    "# Task 1:\n",
    "r = requests.get(f'https://data.nasdaq.com/api/v3/datasets/FSE/AFX_X.json?start_date=2017-01-01&end_date=2017-12-31&api_key={API_KEY}', auth=('user', 'pass'))\n",
    "if r.status_code != 200:\n",
    "    print(\"The request FAILED!\")"
   ]
  },
  {
   "cell_type": "code",
   "execution_count": 6,
   "metadata": {},
   "outputs": [
    {
     "name": "stdout",
     "output_type": "stream",
     "text": [
      "Data integrity check:\n",
      "   - The 'Open' prices has 3 'None' values\n",
      "   - The 'High' prices has 0 'None' values\n",
      "   - The 'Low' prices has 0 'None' values\n",
      "   - The 'Close' prices has 0 'None' values\n",
      "   - The 'Traded Volume' prices has 0 'None' values\n",
      "\n",
      "\n",
      "Task 3:\n",
      "   - The highest opening price in 2017 was 53.11\n",
      "   - The lowest opening price in 2017 was 34.0\n",
      "\n",
      "Task 4:\n",
      "   - The largest daily change was 2.8100000000000023\n",
      "\n",
      "Task 5:\n",
      "   - The largest change between two consequtive (open market) days was 2.559999999999995\n",
      "\n",
      "Task 6:\n",
      "   - The average daily trading volume during 2017 was 89124.33725490196\n",
      "\n",
      "Task 7:\n",
      "   - The median trading volume during 2017 was 76286.0\n"
     ]
    }
   ],
   "source": [
    "# Task 2:\n",
    "# converting to a python dictionary\n",
    "afx_data = r.json()\n",
    "\n",
    "# extracting the relevant data form the afx_data dictionary\n",
    "dataset = afx_data['dataset']\n",
    "daily_data = dataset['data']\n",
    "\n",
    "# now 'daily_data' is a list of lists (rows) and we can look at it like\n",
    "#  a table with the following columns:\n",
    "#  0-  'Date'\n",
    "#  1-  'Open'\n",
    "#  2-  'High'\n",
    "#  3-  'Low'\n",
    "#  4-  'Close'\n",
    "#  5-  'Change'\n",
    "#  6-  'Traded Volume'\n",
    "#  7-  'Turnover'\n",
    "#  8-  'Last Price of the Day'\n",
    "#  9-  'Daily Traded Units'\n",
    "#  10- 'Daily Turnover'\n",
    "\n",
    "# for the sake of convenience in calculations, instead of every row, lets \n",
    "# put every column in a list. This way we can operate easily on sets of \n",
    "# uniform data with item 0 contaning all 'Date' values, item 1 contaning\n",
    "# all 'open' prices and so on.\n",
    "daily_data = list(zip(*daily_data))\n",
    "\n",
    "# let's examin the data integrity\n",
    "print('Data integrity check:')\n",
    "print(f\"   - The 'Open' prices has {daily_data[1].count(None)} 'None' values\")\n",
    "print(f\"   - The 'High' prices has {daily_data[2].count(None)} 'None' values\")\n",
    "print(f\"   - The 'Low' prices has {daily_data[3].count(None)} 'None' values\")\n",
    "print(f\"   - The 'Close' prices has {daily_data[4].count(None)} 'None' values\")\n",
    "print(f\"   - The 'Traded Volume' prices has {daily_data[6].count(None)} 'None' values\")\n",
    "print()\n",
    "\n",
    "\n",
    "# Task 3:\n",
    "# openning prices are the column index 1. Inspecting the data shows there\n",
    "# are some 'None's in this column. We first need to remove 'None's:\n",
    "clean_opens = [x for x in daily_data[1] if x != None]\n",
    "print('\\nTask 3:')\n",
    "print(f'   - The highest opening price in 2017 was {max(clean_opens)}')\n",
    "print(f'   - The lowest opening price in 2017 was {min(clean_opens)}')\n",
    "\n",
    "\n",
    "# Task 4:\n",
    "# no 'None's for 'High' (index 2) and 'Low' (index 3) prices so we have\n",
    "print('\\nTask 4:')\n",
    "print(f'   - The largest daily change was {max(x - y for (x, y) in zip(daily_data[2], daily_data[3]))}')\n",
    "\n",
    "\n",
    "# Task 5:\n",
    "# no 'None's for 'Close' (index 4) prices so we have\n",
    "change = [x - y for (x, y) in zip(daily_data[4][1:], daily_data[4][0:-1])]\n",
    "biggest_change = max(change)\n",
    "min_change = min(change)\n",
    "if biggest_change < -min_change:\n",
    "    biggest_change = min_change\n",
    "print('\\nTask 5:')\n",
    "print(f'   - The largest change between two consequtive (open market) days was {biggest_change}')\n",
    "\n",
    "\n",
    "# Task 6:\n",
    "# no 'None's for 'Traded Volume' (index 6) prices so we have\n",
    "print('\\nTask 6:')\n",
    "print(f'   - The average daily trading volume during 2017 was {sum(daily_data[6]) / len(daily_data[6])}')\n",
    "\n",
    "\n",
    "# the following function is used for task 6\n",
    "def median(mylist):\n",
    "    # first check if the list is empty\n",
    "    l = len(mylist)\n",
    "    if l == 0:\n",
    "        return []\n",
    "\n",
    "    # sort the input list\n",
    "    sorted_list = sorted(mylist)\n",
    "    \n",
    "    # finding the middle indices and reporting the median\n",
    "    m = l // 2\n",
    "    if l % 2 == 0:\n",
    "        return (sorted_list[m] + sorted_list[m + 1]) / 2\n",
    "    else:\n",
    "        return sorted_list[m]\n",
    "\n",
    "\n",
    "# Task 7:\n",
    "# no 'None's for 'Traded Volume' (index 6) prices so we have\n",
    "print('\\nTask 7:')\n",
    "print(f'   - The median trading volume during 2017 was {median(daily_data[6])}')\n"
   ]
  }
 ],
 "metadata": {
  "interpreter": {
   "hash": "4885f37acae9217c235118400878352aafa7b76e66df698a1f601374f86939a7"
  },
  "kernelspec": {
   "display_name": "Python 3.7.9 64-bit ('springboard': conda)",
   "name": "python3"
  },
  "language_info": {
   "codemirror_mode": {
    "name": "ipython",
    "version": 3
   },
   "file_extension": ".py",
   "mimetype": "text/x-python",
   "name": "python",
   "nbconvert_exporter": "python",
   "pygments_lexer": "ipython3",
   "version": "3.11.2"
  }
 },
 "nbformat": 4,
 "nbformat_minor": 4
}
